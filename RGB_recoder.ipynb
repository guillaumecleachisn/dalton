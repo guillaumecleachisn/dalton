{
 "cells": [
  {
   "cell_type": "code",
   "execution_count": null,
   "metadata": {},
   "outputs": [],
   "source": [
    "import PIL"
   ]
  },
  {
   "cell_type": "markdown",
   "metadata": {},
   "source": [
    "<img src=\"img/kingfisher.jpg\" alt=\"mesange image\" title=\"Une jeune mésange bleu\" width=\"50%\">"
   ]
  },
  {
   "cell_type": "code",
   "execution_count": null,
   "metadata": {},
   "outputs": [],
   "source": [
    "from PIL import Image\n",
    "img = Image.open(\"img/kingfisher.jpg\")"
   ]
  },
  {
   "cell_type": "code",
   "execution_count": null,
   "metadata": {},
   "outputs": [],
   "source": [
    "Xmax=(img.size)[0]\n",
    "Ymax=(img.size)[1]\n",
    "y=0\n",
    "while y<Ymax :\n",
    "    x=0\n",
    "    while x<Xmax :\n",
    "        red=img.getpixel((x,y))[0]\n",
    "        green=img.getpixel((x,y))[1]\n",
    "        blue=img.getpixel((x,y))[2]\n",
    "        grey=round(green*0.21+blue*0.72+red*0.07)\n",
    "        cmin=min(red,blue,green)\n",
    "        cmax=max(red,blue,green)\n",
    "        img.putpixel((x,y),(red,green,cmin))\n",
    "        x+=1\n",
    "    y+=1"
   ]
  },
  {
   "cell_type": "code",
   "execution_count": null,
   "metadata": {},
   "outputs": [],
   "source": [
    "img"
   ]
  },
  {
   "cell_type": "code",
   "execution_count": null,
   "metadata": {},
   "outputs": [],
   "source": [
    "from PIL import Image\n",
    "img = Image.open(\"img/kingfisher.jpg\")"
   ]
  },
  {
   "cell_type": "code",
   "execution_count": null,
   "metadata": {},
   "outputs": [],
   "source": [
    "Xmax=(img.size)[0]\n",
    "Ymax=(img.size)[1]\n",
    "y=0\n",
    "while y<Ymax :\n",
    "    x=0\n",
    "    while x<Xmax :\n",
    "        red=round(round(2.2*(img.getpixel((x,y))[0]),-2)/2.2)\n",
    "        green=round(round(2.2*(img.getpixel((x,y))[1]),-2)/2.2)\n",
    "        blue=round(round(2.2*(img.getpixel((x,y))[2]),-2)/2.2)\n",
    "        img.putpixel((x,y),(red,green,blue))\n",
    "        x+=1\n",
    "    y+=1"
   ]
  },
  {
   "cell_type": "code",
   "execution_count": null,
   "metadata": {},
   "outputs": [],
   "source": [
    "img"
   ]
  },
  {
   "cell_type": "code",
   "execution_count": null,
   "metadata": {},
   "outputs": [],
   "source": [
    "from PIL import Image\n",
    "img = Image.open(\"img/kingfisher.jpg\")"
   ]
  },
  {
   "cell_type": "code",
   "execution_count": null,
   "metadata": {},
   "outputs": [],
   "source": [
    "Xmax=(img.size)[0]\n",
    "Ymax=(img.size)[1]\n",
    "y=0\n",
    "while y<Ymax :\n",
    "    x=0\n",
    "    while x<Xmax :\n",
    "        red=img.getpixel((x,y))[0]\n",
    "        green=img.getpixel((x,y))[1]\n",
    "        blue=img.getpixel((x,y))[2]\n",
    "        grey=round(green*0.21+blue*0.72+red*0.07)\n",
    "        cmin=min(red,blue,green)\n",
    "        cmax=max(red,blue,green)\n",
    "        if red == cmax:\n",
    "            img.putpixel((x,y),(red,cmin,cmin))\n",
    "        if green == cmax:\n",
    "            img.putpixel((x,y),(cmin,green,cmin))\n",
    "        if blue == cmax:\n",
    "            img.putpixel((x,y),(cmin,cmin,blue))\n",
    "        x+=1\n",
    "    y+=1"
   ]
  },
  {
   "cell_type": "code",
   "execution_count": null,
   "metadata": {},
   "outputs": [],
   "source": [
    "img"
   ]
  },
  {
   "cell_type": "code",
   "execution_count": null,
   "metadata": {},
   "outputs": [],
   "source": [
    "from PIL import Image\n",
    "img = Image.open(\"img/kingfisher.jpg\")"
   ]
  },
  {
   "cell_type": "code",
   "execution_count": null,
   "metadata": {},
   "outputs": [],
   "source": [
    "Xmax=(img.size)[0]\n",
    "Ymax=(img.size)[1]\n",
    "y=0\n",
    "while y<Ymax :\n",
    "    x=0\n",
    "    while x<Xmax :\n",
    "        red=img.getpixel((x,y))[0]\n",
    "        green=img.getpixel((x,y))[1]\n",
    "        blue=img.getpixel((x,y))[2]\n",
    "        cmax=max(red,blue,green)\n",
    "        if red == cmax:\n",
    "            img.putpixel((x,y),(red,0,0))\n",
    "        if green == cmax:\n",
    "            img.putpixel((x,y),(0,green,0))\n",
    "        if blue == cmax:\n",
    "            img.putpixel((x,y),(0,0,blue))\n",
    "        x+=1\n",
    "    y+=1"
   ]
  },
  {
   "cell_type": "code",
   "execution_count": null,
   "metadata": {},
   "outputs": [],
   "source": [
    "img"
   ]
  },
  {
   "cell_type": "code",
   "execution_count": null,
   "metadata": {},
   "outputs": [],
   "source": [
    "from PIL import Image\n",
    "img = Image.open(\"img/kingfisher.jpg\")"
   ]
  },
  {
   "cell_type": "code",
   "execution_count": null,
   "metadata": {},
   "outputs": [],
   "source": [
    "Xmax=(img.size)[0]\n",
    "Ymax=(img.size)[1]\n",
    "y=0\n",
    "while y<Ymax :\n",
    "    x=0\n",
    "    while x<Xmax :\n",
    "        red=img.getpixel((x,y))[0]\n",
    "        green=img.getpixel((x,y))[1]\n",
    "        blue=img.getpixel((x,y))[2]\n",
    "        cmax=max(red,blue,green)\n",
    "        if red == cmax:\n",
    "            img.putpixel((x,y),(255,0,0))\n",
    "        if green == cmax:\n",
    "            img.putpixel((x,y),(0,255,0))\n",
    "        if blue == cmax:\n",
    "            img.putpixel((x,y),(0,0,255))\n",
    "        x+=1\n",
    "    y+=1"
   ]
  },
  {
   "cell_type": "code",
   "execution_count": null,
   "metadata": {},
   "outputs": [],
   "source": [
    "img"
   ]
  },
  {
   "cell_type": "code",
   "execution_count": null,
   "metadata": {},
   "outputs": [],
   "source": [
    "from PIL import Image\n",
    "img = Image.open(\"img/kingfisher.jpg\")"
   ]
  },
  {
   "cell_type": "code",
   "execution_count": null,
   "metadata": {},
   "outputs": [],
   "source": [
    "Xmax=(img.size)[0]\n",
    "Ymax=(img.size)[1]\n",
    "y=0\n",
    "while y<Ymax :\n",
    "    x=0\n",
    "    while x<Xmax :\n",
    "        red=img.getpixel((x,y))[0]\n",
    "        green=img.getpixel((x,y))[1]\n",
    "        blue=img.getpixel((x,y))[2]\n",
    "        cmin=min(red,blue,green)\n",
    "        cmax=max(red,blue,green)\n",
    "        r= red+cmin\n",
    "        y= cmax-blue\n",
    "        g= green+cmin\n",
    "        c= cmax-red\n",
    "        b= blue+cmin\n",
    "        p= cmax-green\n",
    "        c2max = max(r,y,g,c,b,p)\n",
    "        if r == c2max:\n",
    "            img.putpixel((x,y),(255,0,0))\n",
    "        if y == c2max:\n",
    "            img.putpixel((x,y),(255,255,0))\n",
    "        if g == c2max:\n",
    "            img.putpixel((x,y),(0,255,0))\n",
    "        if c == c2max:\n",
    "            img.putpixel((x,y),(0,255,255))\n",
    "        if b == c2max:\n",
    "            img.putpixel((x,y),(0,0,255))\n",
    "        if p == c2max:\n",
    "            img.putpixel((x,y),(255,0,255))\n",
    "        x+=1\n",
    "    y+=1"
   ]
  },
  {
   "cell_type": "code",
   "execution_count": null,
   "metadata": {},
   "outputs": [],
   "source": [
    "img"
   ]
  }
 ],
 "metadata": {
  "kernelspec": {
   "display_name": "Python 3",
   "language": "python",
   "name": "python3"
  },
  "language_info": {
   "codemirror_mode": {
    "name": "ipython",
    "version": 3
   },
   "file_extension": ".py",
   "mimetype": "text/x-python",
   "name": "python",
   "nbconvert_exporter": "python",
   "pygments_lexer": "ipython3",
   "version": "3.6.4"
  }
 },
 "nbformat": 4,
 "nbformat_minor": 2
}
